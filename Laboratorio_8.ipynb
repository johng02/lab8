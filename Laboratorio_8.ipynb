{
  "nbformat": 4,
  "nbformat_minor": 0,
  "metadata": {
    "colab": {
      "provenance": [],
      "include_colab_link": true
    },
    "kernelspec": {
      "name": "python3",
      "display_name": "Python 3"
    },
    "language_info": {
      "name": "python"
    }
  },
  "cells": [
    {
      "cell_type": "markdown",
      "metadata": {
        "id": "view-in-github",
        "colab_type": "text"
      },
      "source": [
        "<a href=\"https://colab.research.google.com/github/johng02/lab8/blob/main/Laboratorio_8.ipynb\" target=\"_parent\"><img src=\"https://colab.research.google.com/assets/colab-badge.svg\" alt=\"Open In Colab\"/></a>"
      ]
    },
    {
      "cell_type": "markdown",
      "source": [
        "# Laboratorio 8: Implementación algoritmo de regresión lineal\n",
        "**Facultad de ingeniería, departamento de Ingeniería Biomédica, Universidad de los Andes**\\\n",
        "**IBIO-2440 Programación científica**"
      ],
      "metadata": {
        "id": "cl_j2KwtVuYT"
      }
    },
    {
      "cell_type": "markdown",
      "source": [
        "# Nueva sección"
      ],
      "metadata": {
        "id": "UjbDjT74WdRZ"
      }
    },
    {
      "cell_type": "markdown",
      "source": [
        "**Nombres de los integrantes**\n",
        "\n",
        "\n",
        "1.   John gomez\n",
        "2.   Nombre integrante 2\n",
        "\n",
        "**Número del grupo**\n",
        "\n",
        "*Escribir el número del grupo*"
      ],
      "metadata": {
        "id": "dmnIao0gV6XJ"
      }
    },
    {
      "cell_type": "markdown",
      "source": [],
      "metadata": {
        "id": "Upcw2MfeXFB2"
      }
    },
    {
      "cell_type": "markdown",
      "source": [
        "# **Regresión lineal**\n",
        "\n",
        "Considere el conjunto de puntos:\\\n",
        " $(x^{(1)},y^{(1)}), (x^{(2)},y^{(2)}), ... , (x^{(m)},y^{(m)})$,\n",
        "\n",
        "donde se asume que se relacionan a través de la ecuación:\n",
        "\\begin{align*}\n",
        "  y^{(i)} \\approx β_{1} + &x^{(i)}β_{2}\\\\\n",
        " \\end{align*}\n",
        "Encontrar $\\beta=[\\beta_1,\\beta_1]^T$ se resuelve a través de la solución del problema de mínimos cuadrados:\n",
        "\\begin{align*}\n",
        "  \\min_\\beta ||y-H\\beta||_2^2,\n",
        " \\end{align*}\n",
        "donde $y$ y $H$ se contruyen a partir de los datos como se vio en clase. La solución analítica de este problema tiene la forma:\n",
        "\\begin{align*}\n",
        "  \\beta^* =  (H^TH)^{-1}H^Ty\n",
        " \\end{align*}\n",
        " \n",
        "Ahora, sigua los siguientes pasos:\n",
        "\n",
        "1. Teniendo en cuenta los datos anexados en la actividad en archivo excel, use la libreria *pandas* para procesarlos y trabajar con ellos. La primera columna corresponde a los valores de $x$ y la segunda a los valores de $y$.\n"
      ],
      "metadata": {
        "id": "pkVvrCyYV-c2"
      }
    },
    {
      "cell_type": "code",
      "source": [
        "import pandas as pd\n",
        "import numpy as np\n",
        "from numpy.linalg import inv\n",
        "from numpy.linalg import norm\n",
        "import matplotlib.pyplot as plt\n",
        "\n",
        "df=pd.read_excel(r\"Data.xlsx\", header=None)\n",
        "print(df)"
      ],
      "metadata": {
        "id": "97J2a5gp2aXH",
        "colab": {
          "base_uri": "https://localhost:8080/"
        },
        "outputId": "531fa873-9151-4de5-dbdb-1822725a0a6e"
      },
      "execution_count": 5,
      "outputs": [
        {
          "output_type": "stream",
          "name": "stdout",
          "text": [
            "        0          1\n",
            "0     0.0   3.191590\n",
            "1     0.1  -1.735428\n",
            "2     0.2  -0.347611\n",
            "3     0.3  -0.626006\n",
            "4     0.4   1.867975\n",
            "..    ...        ...\n",
            "96    9.6  43.227739\n",
            "97    9.7  43.686057\n",
            "98    9.8  48.793988\n",
            "99    9.9  52.387736\n",
            "100  10.0  52.806588\n",
            "\n",
            "[101 rows x 2 columns]\n"
          ]
        }
      ]
    },
    {
      "cell_type": "markdown",
      "source": [
        "2. Construya la matriz $H$ y el vector $y$."
      ],
      "metadata": {
        "id": "Jq9uexuhWDeY"
      }
    },
    {
      "cell_type": "code",
      "source": [
        "from pandas.core.internals.base import T\n",
        "data=df.to_numpy()\n",
        "x_f=data[:,0]\n",
        "y=data[:,1]\n",
        "\n",
        "ones=np.ones([np.size(x_f,0)])\n",
        "h=np.vstack((ones,x_f))\n",
        "h=h.T\n",
        "print(h)"
      ],
      "metadata": {
        "id": "5XGM9zbo4JEK",
        "colab": {
          "base_uri": "https://localhost:8080/"
        },
        "outputId": "3f2e5c76-00a4-4893-894f-c9fd00797cd8"
      },
      "execution_count": 12,
      "outputs": [
        {
          "output_type": "stream",
          "name": "stdout",
          "text": [
            "[[ 1.   0. ]\n",
            " [ 1.   0.1]\n",
            " [ 1.   0.2]\n",
            " [ 1.   0.3]\n",
            " [ 1.   0.4]\n",
            " [ 1.   0.5]\n",
            " [ 1.   0.6]\n",
            " [ 1.   0.7]\n",
            " [ 1.   0.8]\n",
            " [ 1.   0.9]\n",
            " [ 1.   1. ]\n",
            " [ 1.   1.1]\n",
            " [ 1.   1.2]\n",
            " [ 1.   1.3]\n",
            " [ 1.   1.4]\n",
            " [ 1.   1.5]\n",
            " [ 1.   1.6]\n",
            " [ 1.   1.7]\n",
            " [ 1.   1.8]\n",
            " [ 1.   1.9]\n",
            " [ 1.   2. ]\n",
            " [ 1.   2.1]\n",
            " [ 1.   2.2]\n",
            " [ 1.   2.3]\n",
            " [ 1.   2.4]\n",
            " [ 1.   2.5]\n",
            " [ 1.   2.6]\n",
            " [ 1.   2.7]\n",
            " [ 1.   2.8]\n",
            " [ 1.   2.9]\n",
            " [ 1.   3. ]\n",
            " [ 1.   3.1]\n",
            " [ 1.   3.2]\n",
            " [ 1.   3.3]\n",
            " [ 1.   3.4]\n",
            " [ 1.   3.5]\n",
            " [ 1.   3.6]\n",
            " [ 1.   3.7]\n",
            " [ 1.   3.8]\n",
            " [ 1.   3.9]\n",
            " [ 1.   4. ]\n",
            " [ 1.   4.1]\n",
            " [ 1.   4.2]\n",
            " [ 1.   4.3]\n",
            " [ 1.   4.4]\n",
            " [ 1.   4.5]\n",
            " [ 1.   4.6]\n",
            " [ 1.   4.7]\n",
            " [ 1.   4.8]\n",
            " [ 1.   4.9]\n",
            " [ 1.   5. ]\n",
            " [ 1.   5.1]\n",
            " [ 1.   5.2]\n",
            " [ 1.   5.3]\n",
            " [ 1.   5.4]\n",
            " [ 1.   5.5]\n",
            " [ 1.   5.6]\n",
            " [ 1.   5.7]\n",
            " [ 1.   5.8]\n",
            " [ 1.   5.9]\n",
            " [ 1.   6. ]\n",
            " [ 1.   6.1]\n",
            " [ 1.   6.2]\n",
            " [ 1.   6.3]\n",
            " [ 1.   6.4]\n",
            " [ 1.   6.5]\n",
            " [ 1.   6.6]\n",
            " [ 1.   6.7]\n",
            " [ 1.   6.8]\n",
            " [ 1.   6.9]\n",
            " [ 1.   7. ]\n",
            " [ 1.   7.1]\n",
            " [ 1.   7.2]\n",
            " [ 1.   7.3]\n",
            " [ 1.   7.4]\n",
            " [ 1.   7.5]\n",
            " [ 1.   7.6]\n",
            " [ 1.   7.7]\n",
            " [ 1.   7.8]\n",
            " [ 1.   7.9]\n",
            " [ 1.   8. ]\n",
            " [ 1.   8.1]\n",
            " [ 1.   8.2]\n",
            " [ 1.   8.3]\n",
            " [ 1.   8.4]\n",
            " [ 1.   8.5]\n",
            " [ 1.   8.6]\n",
            " [ 1.   8.7]\n",
            " [ 1.   8.8]\n",
            " [ 1.   8.9]\n",
            " [ 1.   9. ]\n",
            " [ 1.   9.1]\n",
            " [ 1.   9.2]\n",
            " [ 1.   9.3]\n",
            " [ 1.   9.4]\n",
            " [ 1.   9.5]\n",
            " [ 1.   9.6]\n",
            " [ 1.   9.7]\n",
            " [ 1.   9.8]\n",
            " [ 1.   9.9]\n",
            " [ 1.  10. ]]\n"
          ]
        }
      ]
    },
    {
      "cell_type": "markdown",
      "source": [
        "3. Encuentre los valores de $\\beta^*$."
      ],
      "metadata": {
        "id": "YIbtDrJU4JN3"
      }
    },
    {
      "cell_type": "code",
      "source": [
        "beta=inv(h.T@h)@h.T@y\n",
        "print(beta)\n"
      ],
      "metadata": {
        "id": "tg_nSj4B4Ps3",
        "colab": {
          "base_uri": "https://localhost:8080/"
        },
        "outputId": "de7c3510-50d2-4427-a6aa-7eb8e6f6ba87"
      },
      "execution_count": 24,
      "outputs": [
        {
          "output_type": "stream",
          "name": "stdout",
          "text": [
            "[0.07893785 5.09970266]\n"
          ]
        }
      ]
    },
    {
      "cell_type": "markdown",
      "source": [
        "4. Grafique la recta obtenida junto a los datos anexados."
      ],
      "metadata": {
        "id": "2h2rqn-k4QQh"
      }
    },
    {
      "cell_type": "code",
      "source": [
        "x_reg=np.linspace(0,10,10000)\n",
        "y_reg=beta[0]+beta[1]*(x_reg)\n",
        "\n",
        "plt.plot(x_reg,y_reg)\n",
        "plt.scatter(x_f,y)\n",
        "\n"
      ],
      "metadata": {
        "id": "j3OB9g-464Dh",
        "colab": {
          "base_uri": "https://localhost:8080/",
          "height": 282
        },
        "outputId": "34012ddc-8d09-400f-e65e-0cded9a18adf"
      },
      "execution_count": 39,
      "outputs": [
        {
          "output_type": "execute_result",
          "data": {
            "text/plain": [
              "<matplotlib.collections.PathCollection at 0x7f01f18547c0>"
            ]
          },
          "metadata": {},
          "execution_count": 39
        },
        {
          "output_type": "display_data",
          "data": {
            "text/plain": [
              "<Figure size 432x288 with 1 Axes>"
            ],
            "image/png": "[encoded data removed]"
          },
          "metadata": {
            "needs_background": "light"
          }
        }
      ]
    },
    {
      "cell_type": "markdown",
      "source": [
        "5. Con los coeficientes hallados, se desea comparar el error con otras dos parejas de coeficientes:\n",
        "\n",
        " - $\\beta_a=[\\beta_1^*+5, \\beta_2^*-1]^T$\n",
        " - $\\beta_b=[\\beta_1^*-5, \\beta_2^*+1]^T$.\n",
        "\n",
        "Determine el valor de:\n",
        "\n",
        "  \\begin{align*}\n",
        "  ||y-H\\beta||_2^2\n",
        " \\end{align*}\n",
        "\n",
        "para $\\beta^*$, $\\beta_a$, y $\\beta_b$. Aquí los valores de $y$ y $H$ son los mismos para todos ya que los datos no cambian. Explique los resultados obtenidos. "
      ],
      "metadata": {
        "id": "rMRjXkcE5H8B"
      }
    },
    {
      "cell_type": "code",
      "source": [
        "ba=np.array((beta[0]+5, beta[1]-1)).T\n",
        "b_b=np.array((beta[0]-5, beta[1]+1)).T\n",
        "print(ba)\n",
        "print(b_b)"
      ],
      "metadata": {
        "id": "9qhW5uQmDQl4",
        "colab": {
          "base_uri": "https://localhost:8080/"
        },
        "outputId": "dbe6dc5f-8720-45e8-d4d4-7c15ee8e06c6"
      },
      "execution_count": 40,
      "outputs": [
        {
          "output_type": "stream",
          "name": "stdout",
          "text": [
            "[5.07893785 4.09970266]\n",
            "[-4.92106215  6.09970266]\n"
          ]
        }
      ]
    },
    {
      "cell_type": "markdown",
      "source": [
        "6. Grafique el las tres rectas (es decir, las obtenidas por $\\beta^*$, $\\beta_a$, y $\\beta_b$)  junto a los datos anexados. En un scatter plot pinte los datos en el archivo, y pinte las tres rectas traslapadas con tres colores diferentes. Interprete los resultados obtenidos."
      ],
      "metadata": {
        "id": "rFZquyhmDPxt"
      }
    },
    {
      "cell_type": "code",
      "source": [
        "x_reg=np.linspace(0,10,10000)\n",
        "y_reg=beta[0]+beta[1]*(x_reg)\n",
        "\n",
        "\n",
        "plt.plot(x_reg,y_reg)"
      ],
      "metadata": {
        "id": "OwmmTa6tDXZn"
      },
      "execution_count": null,
      "outputs": []
    }
  ]
}